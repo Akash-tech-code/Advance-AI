{
  "cells": [
    {
      "cell_type": "markdown",
      "metadata": {
        "id": "view-in-github",
        "colab_type": "text"
      },
      "source": [
        "<a href=\"https://colab.research.google.com/github/Akash-tech-code/Advance-AI/blob/main/BFS_DFS_A*.ipynb\" target=\"_parent\"><img src=\"https://colab.research.google.com/assets/colab-badge.svg\" alt=\"Open In Colab\"/></a>"
      ]
    },
    {
      "cell_type": "code",
      "source": [
        "from queue import PriorityQueue\n",
        "\n",
        "graph = {\n",
        "    'a': {'b': 9, 'c': 4, 'd': 7},\n",
        "    'b': {'a': 9, 'e': 11},\n",
        "    'c': {'a': 4, 'd': 12, 'e': 17},\n",
        "    'd': {'a': 7, 'c': 12, 'f': 14},\n",
        "    'e': {'b': 11, 'c': 17, 'z': 5},\n",
        "    'f': {'d': 14, 'z': 9},\n",
        "    'z': {'e': 5, 'f': 9}\n",
        "}\n",
        "\n",
        "heuristic = {\n",
        "    'a': 21, 'b': 14, 'c': 18, 'd': 18, 'e': 5, 'f': 8, 'z': 0\n",
        "}\n",
        "\n",
        "def bfs(start):\n",
        "    visited = set()\n",
        "    queue = [start]\n",
        "    print(\"BFS Traversal:\")\n",
        "    while queue:\n",
        "        node = queue.pop(0)\n",
        "        if node not in visited:\n",
        "            print(node)\n",
        "            visited.add(node)\n",
        "            queue.extend(graph[node].keys())\n",
        "\n",
        "def dfs(start, visited=None):\n",
        "    if visited is None:\n",
        "        visited = set()\n",
        "        print(\"DFS Traversal:\")\n",
        "    if start not in visited:\n",
        "        print(start)\n",
        "        visited.add(start)\n",
        "        for neighbor in graph[start]:\n",
        "            dfs(neighbor, visited)\n",
        "\n",
        "def a_star_search(start, goal):\n",
        "    open_set = PriorityQueue()\n",
        "    open_set.put((heuristic[start], start))\n",
        "    came_from = {}\n",
        "    g_score = {node: float('inf') for node in graph}\n",
        "    g_score[start] = 0\n",
        "\n",
        "    print(\"A* Search Path:\")\n",
        "    while not open_set.empty():\n",
        "        _, current = open_set.get()\n",
        "        print(current)\n",
        "        if current == goal:\n",
        "            break\n",
        "        for neighbor, cost in graph[current].items():\n",
        "            tentative_g_score = g_score[current] + cost\n",
        "            if tentative_g_score < g_score[neighbor]:\n",
        "                came_from[neighbor] = current\n",
        "                g_score[neighbor] = tentative_g_score\n",
        "                f_score = tentative_g_score + heuristic[neighbor]\n",
        "                open_set.put((f_score, neighbor))\n",
        "\n",
        "start, goal = 'a', 'z'\n",
        "bfs(start)\n",
        "dfs(start)\n",
        "a_star_search(start, goal)\n"
      ],
      "metadata": {
        "colab": {
          "base_uri": "https://localhost:8080/"
        },
        "id": "ie5OmNvB4ICJ",
        "outputId": "2fbc7369-f068-4b1a-e406-0cc43cf6cca0"
      },
      "execution_count": 2,
      "outputs": [
        {
          "output_type": "stream",
          "name": "stdout",
          "text": [
            "BFS Traversal:\n",
            "a\n",
            "b\n",
            "c\n",
            "d\n",
            "e\n",
            "f\n",
            "z\n",
            "DFS Traversal:\n",
            "a\n",
            "b\n",
            "e\n",
            "c\n",
            "d\n",
            "f\n",
            "z\n",
            "A* Search Path:\n",
            "a\n",
            "c\n",
            "b\n",
            "d\n",
            "e\n",
            "z\n"
          ]
        }
      ]
    },
    {
      "cell_type": "code",
      "source": [
        "\\"
      ],
      "metadata": {
        "colab": {
          "base_uri": "https://localhost:8080/"
        },
        "id": "NjpJlHJl5bT5",
        "outputId": "b0d22a60-aaa9-47b5-c161-aac9a98caac9"
      },
      "execution_count": 1,
      "outputs": [
        {
          "output_type": "stream",
          "name": "stdout",
          "text": [
            "Running A* Search:\n",
            "A* Path to goal: [(0, 0), (0, 1), (0, 2), (0, 3), (1, 3), (2, 3), (3, 3)]\n"
          ]
        },
        {
          "output_type": "execute_result",
          "data": {
            "text/plain": [
              "[(0, 0), (0, 1), (0, 2), (0, 3), (1, 3), (2, 3), (3, 3)]"
            ]
          },
          "metadata": {},
          "execution_count": 1
        }
      ]
    }
  ],
  "metadata": {
    "colab": {
      "name": "Welcome To Colab",
      "toc_visible": true,
      "provenance": [],
      "include_colab_link": true
    },
    "kernelspec": {
      "display_name": "Python 3",
      "name": "python3"
    }
  },
  "nbformat": 4,
  "nbformat_minor": 0
}